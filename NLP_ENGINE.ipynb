{
 "cells": [
  {
   "cell_type": "code",
   "execution_count": 1,
   "metadata": {},
   "outputs": [],
   "source": [
    "#! pip3 install --user -U textblob"
   ]
  },
  {
   "cell_type": "code",
   "execution_count": 2,
   "metadata": {},
   "outputs": [],
   "source": [
    "import nltk\n",
    "from nltk.stem.lancaster import LancasterStemmer # for english\n",
    "from nltk.stem.snowball import FrenchStemmer # for french\n",
    "from nltk.corpus import stopwords \n",
    "from textblob import TextBlob #to detect the language used => 'fr' or 'en'\n",
    "# import our chat-bot intents file\n",
    "import json\n",
    "from spellchecker import SpellChecker\n",
    "import random\n",
    "import numpy as np"
   ]
  },
  {
   "cell_type": "code",
   "execution_count": 3,
   "metadata": {},
   "outputs": [],
   "source": [
    "def detect_language(sentence):\n",
    "    if(len(sentence)>3):\n",
    "        b = TextBlob(sentence)\n",
    "        return b.detect_language()  \n",
    "    else:\n",
    "        return \"en\""
   ]
  },
  {
   "cell_type": "code",
   "execution_count": 4,
   "metadata": {},
   "outputs": [],
   "source": [
    "def spell_correction(tokenized_sentence):\n",
    "    spell = SpellChecker()\n",
    "    misspelled=spell.unknown(tokenized_sentence)\n",
    "    for i in tokenized_sentence:\n",
    "        if i  in misspelled:\n",
    "            tokenized_sentence[tokenized_sentence.index(i)]=spell.correction(i)\n",
    "    return tokenized_sentence"
   ]
  },
  {
   "cell_type": "code",
   "execution_count": 5,
   "metadata": {},
   "outputs": [],
   "source": [
    "def tokenization(sentence):\n",
    "    return nltk.word_tokenize(sentence)"
   ]
  },
  {
   "cell_type": "code",
   "execution_count": 6,
   "metadata": {},
   "outputs": [],
   "source": [
    "def stopwords_list():\n",
    "    return list(set(stopwords.words('french')))+ list(set(stopwords.words('english')))+[\"?\",\"!\",\".\",\";\",\",\"]"
   ]
  },
  {
   "cell_type": "code",
   "execution_count": 7,
   "metadata": {},
   "outputs": [],
   "source": [
    "def stemming(sentence):\n",
    "    sentence=sentence.lower()\n",
    "    \"\"\"lang=detect_language(sentence)\n",
    "    stemmer = LancasterStemmer() if lang==\"en\" else FrenchStemmer()\"\"\"\n",
    "    stemmer=LancasterStemmer()\n",
    "    return stemmer.stem(sentence)"
   ]
  },
  {
   "cell_type": "code",
   "execution_count": 8,
   "metadata": {},
   "outputs": [],
   "source": [
    "def get_data(file):\n",
    "    with open(file) as json_data:\n",
    "        data = json.load(json_data)\n",
    "    return data"
   ]
  },
  {
   "cell_type": "code",
   "execution_count": 9,
   "metadata": {},
   "outputs": [],
   "source": [
    "def pre_processing(file):\n",
    "    data=get_data(file)\n",
    "    stopwords_list=stopwords_list()\n",
    "    words = [] # our vocabulary \n",
    "    classes = [] #label (intent or entity)\n",
    "    documents = [] #each pattern tokenized and stemmed along with its corresponding label (intent or entity)\n",
    "    # loop through each sentence in our intents patterns\n",
    "    for row in data[file.split(\".\")[0]]: #intent or entity\n",
    "        for pattern in row['patterns']:\n",
    "            # 1- TOKENIZATION\n",
    "            w = spell_correction(tokenization(pattern))\n",
    "            # add to our words list\n",
    "            words.extend(w)\n",
    "            # add to documents in our corpus\n",
    "            documents.append((w, row['tag']))\n",
    "            # add to our classes list\n",
    "            if row['tag'] not in classes:\n",
    "                classes.append(row['tag']) \n",
    "    # stem and lower each word and remove duplicates\n",
    "    words = [stemming(w) for w in words if w not in stopwords_list] # STEMMING & STOPWORDS\n",
    "    # remove duplicates\n",
    "    words = sorted(list(set(words)))\n",
    "    classes = sorted(list(set(classes)))\n",
    "    return dict({\"words\":words,\"classes\":classes,\"documents\":documents})"
   ]
  },
  {
   "cell_type": "code",
   "execution_count": 10,
   "metadata": {},
   "outputs": [],
   "source": [
    "def train_x_train_y(file):\n",
    "    vocabulary=pre_processing(file)\n",
    "    words=vocabulary[\"words\"]\n",
    "    classes=vocabulary[\"classes\"]\n",
    "    documents=vocabulary[\"documents\"]\n",
    "  \n",
    "    # create our training data\n",
    "    training = []\n",
    "    output = []\n",
    "    # create an empty array for our output\n",
    "    output_empty = [0] * len(classes)\n",
    "    # training set, bag of words for each sentence\n",
    "    for doc in documents:\n",
    "        # initialize our bag of words\n",
    "        bag = []\n",
    "        # list of tokenized words for the pattern (pattern = what user says)\n",
    "        pattern_words = doc[0] \n",
    "        # stem each word\n",
    "        pattern_words = [stemming(word) for word in pattern_words]\n",
    "        # create our bag of words array\n",
    "        # mark the presence of words as a boolean value, 0 for absent, 1 for present.\n",
    "        for w in words:\n",
    "            bag.append(pattern_words.count(w)) \n",
    "        # output is a '0' for each tag and '1' for current tag\n",
    "        output_row = list(output_empty)\n",
    "        output_row[classes.index(doc[1])] = 1\n",
    "        training.append([bag, output_row])\n",
    "    \n",
    "    # shuffle our features and turn into np.array\n",
    "    random.shuffle(training)\n",
    "    training = np.array(training)\n",
    "    # create train and test lists\n",
    "    train_x = list(training[:,0])# the sentence\n",
    "    train_y = list(training[:,1])# the intent\n",
    "    return dict({\"train_x\":train_x,\"train_y\":train_y})    "
   ]
  }
 ],
 "metadata": {
  "kernelspec": {
   "display_name": "Python 3",
   "language": "python",
   "name": "python3"
  },
  "language_info": {
   "codemirror_mode": {
    "name": "ipython",
    "version": 3
   },
   "file_extension": ".py",
   "mimetype": "text/x-python",
   "name": "python",
   "nbconvert_exporter": "python",
   "pygments_lexer": "ipython3",
   "version": "3.5.2"
  }
 },
 "nbformat": 4,
 "nbformat_minor": 2
}
